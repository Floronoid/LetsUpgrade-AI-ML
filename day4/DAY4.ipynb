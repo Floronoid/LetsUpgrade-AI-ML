{
 "cells": [
  {
   "cell_type": "code",
   "execution_count": 8,
   "metadata": {},
   "outputs": [
    {
     "name": "stdout",
     "output_type": "stream",
     "text": [
      "enter number as a+bj2+3j\n",
      "enter number as a+bj3+4J\n",
      "Addition of complex number is: (5+7j)\n",
      "substraction of complex number is: (-1-1j)\n",
      "Division of complex number is: (0.72+0.04j)\n",
      "Multiplication of complex number is: (-6+17j)\n"
     ]
    }
   ],
   "source": [
    "#question 1(arithematic on complex numbers)\n",
    "\n",
    "a  = complex(input(\"enter number as a+bj\"))\n",
    "b  = complex(input(\"enter number as a+bj\"))\n",
    "print(\"Addition of complex number is:\",a+b)\n",
    "print(\"substraction of complex number is:\",a-b)\n",
    "print(\"Division of complex number is:\",a/b)\n",
    "print(\"Multiplication of complex number is:\",a*b)\n",
    "\n",
    "#Modulo and floor division not possible for complex number\n"
   ]
  },
  {
   "cell_type": "markdown",
   "metadata": {},
   "source": [
    "# question 2(Range function)\n",
    "\n",
    "**1.Range()  is an in-buit function in python which has parameters like start,stop and step.\n",
    "2.The range returns a sequence of numbers which is by default incremented by 1 after every step and starts with 0\n",
    "3.The stop is compulsory to mention and the stop value is exclusive which means its not included.**\n",
    "\n",
    "### Program for range function\n",
    "\n",
    "for i in range(2,8):\n",
    "           print(i)\n",
    "\n",
    "for i in range(2,8,2):\n",
    "           print(i)\n"
   ]
  },
  {
   "cell_type": "code",
   "execution_count": 2,
   "metadata": {},
   "outputs": [
    {
     "name": "stdout",
     "output_type": "stream",
     "text": [
      "enter number26\n",
      "enter  2 number0\n",
      "Multiplication is: 0\n"
     ]
    }
   ],
   "source": [
    "#question 3(perform substration)\n",
    "a = int(input(\"enter number\"))\n",
    "b = int(input(\"enter  2 number\"))\n",
    "if (a-b)>25:\n",
    "    print(\"Multiplication is:\",a*b)\n",
    "else:\n",
    "    print(\"division is:\",a/b)\n"
   ]
  },
  {
   "cell_type": "code",
   "execution_count": 4,
   "metadata": {},
   "outputs": [
    {
     "name": "stdout",
     "output_type": "stream",
     "text": [
      "Square of number 2 minus 2 is: 2\n",
      "Square of number 4 minus 2 is: 14\n",
      "Square of number 6 minus 2 is: 34\n",
      "Square of number 8 minus 2 is: 62\n",
      "Square of number 10 minus 2 is: 98\n"
     ]
    }
   ],
   "source": [
    "#question 4(square of that number -2)\n",
    "\n",
    "l = [1,2,3,4,5,6,7,8,9,10]\n",
    "\n",
    "for i in l:\n",
    "    if (i%2)==0:\n",
    "        print(\"Square of number\",i,\"minus 2 is:\",(i**2)-2)\n",
    "    \n",
    "    "
   ]
  },
  {
   "cell_type": "code",
   "execution_count": 5,
   "metadata": {},
   "outputs": [
    {
     "name": "stdout",
     "output_type": "stream",
     "text": [
      "division of 16 with 2 is greater than 7\n",
      "division of 18 with 2 is greater than 7\n",
      "division of 20 with 2 is greater than 7\n"
     ]
    }
   ],
   "source": [
    "#question 5(Printing greater than 7 number when divided by 2)\n",
    "l = [2,4,6,8,10,12,14,16,18,20]\n",
    "\n",
    "for i in l:\n",
    "    if (i/2)>7:\n",
    "        print(\"division of\",i,\"with 2 is greater than 7\")"
   ]
  }
 ],
 "metadata": {
  "kernelspec": {
   "display_name": "Python 3",
   "language": "python",
   "name": "python3"
  },
  "language_info": {
   "codemirror_mode": {
    "name": "ipython",
    "version": 3
   },
   "file_extension": ".py",
   "mimetype": "text/x-python",
   "name": "python",
   "nbconvert_exporter": "python",
   "pygments_lexer": "ipython3",
   "version": "3.7.3"
  }
 },
 "nbformat": 4,
 "nbformat_minor": 2
}
