{
 "cells": [
  {
   "cell_type": "code",
   "execution_count": 12,
   "metadata": {},
   "outputs": [
    {
     "name": "stdout",
     "output_type": "stream",
     "text": [
      "3\n",
      "5\n",
      "7\n",
      "9\n",
      "11\n",
      "13\n",
      "15\n",
      "17\n",
      "19\n"
     ]
    }
   ],
   "source": [
    "#question 1(non-even prime number)\n",
    "\n",
    "for i in range(2,21):\n",
    "    if i==2:\n",
    "        {}\n",
    "        \n",
    "    else:\n",
    "        if i%2==1:\n",
    "            print(i)\n",
    "        \n",
    "           \n",
    "      \n",
    "         \n",
    "         "
   ]
  },
  {
   "cell_type": "code",
   "execution_count": 11,
   "metadata": {},
   "outputs": [
    {
     "name": "stdout",
     "output_type": "stream",
     "text": [
      "enter string for operationshElllOO 2525&**\n",
      "is string in upper case? False\n",
      "is string in lower case? False\n",
      "HeLLLoo 2525&**\n",
      "15\n",
      "hElllWW 2525&**\n",
      "hellloo 2525&**\n",
      "('hElllOO 2525&**', '', '')\n",
      "-1\n",
      "hElllOO 2525&**\n",
      "hhElllOO 2525&**i\n",
      "Elll\n",
      "b'hElllOO 2525&**'\n",
      "  hElllOO 2525&**   \n",
      "Hellloo 2525&**\n",
      "False\n"
     ]
    }
   ],
   "source": [
    "#question 2(strinng operations)\n",
    "\n",
    "a = input(\"enter string for operations\")\n",
    "\n",
    "print(\"is string in upper case?\",a.isupper())\n",
    "print(\"is string in lower case?\",a.islower())\n",
    "print(a.swapcase())\n",
    "print(len(a))\n",
    "print(a.replace('O','W'))\n",
    "print(a.lower())\n",
    "print(a.partition('s'))\n",
    "print(a.find('d'))\n",
    "print(a.lstrip())\n",
    "print(a.join('hi'))\n",
    "print(a[1:5])\n",
    "print(a.encode())\n",
    "print(a.center(20))\n",
    "print(a.capitalize())\n",
    "print(a.isalnum())\n",
    "\n",
    "\n"
   ]
  },
  {
   "cell_type": "code",
   "execution_count": 13,
   "metadata": {},
   "outputs": [
    {
     "name": "stdout",
     "output_type": "stream",
     "text": [
      "Enter string 1 for palindrome madam\n",
      "enter string 2  to compare for anagramlisten\n",
      "string 1 is palindrome\n"
     ]
    }
   ],
   "source": [
    "#question 3(palindrome,anagram)\n",
    "a = input(\"Enter string 1 for palindrome \")\n",
    "b = input(\"enter string 2  to compare for anagram\")\n",
    "\n",
    "c =a[::-1]\n",
    "if a==c:\n",
    "    print(\"string 1 is palindrome\")\n",
    "\n",
    "    if sorted(b)==sorted(a):\n",
    "        print(\"both given strings are also anagram\")\n",
    "    \n",
    "            \n",
    "else:\n",
    "    print(\"strings are neither palindrome nor anagram\")\n",
    "\n",
    "\n",
    "\n",
    "        \n",
    "    "
   ]
  },
  {
   "cell_type": "code",
   "execution_count": 7,
   "metadata": {},
   "outputs": [
    {
     "name": "stdout",
     "output_type": "stream",
     "text": [
      "enter string$T&*hhT  (&&^JUYS\n",
      "thhtjuys"
     ]
    }
   ],
   "source": [
    "#question 4(change into lowercase by reoving characters)\n",
    "def low_case_str(a):\n",
    "    for i in a:\n",
    "        if i.isalnum():\n",
    "            print(i.lower(),end=\"\")\n",
    "    \n",
    "low_case_str(input(\"enter string\"))\n"
   ]
  },
  {
   "cell_type": "markdown",
   "metadata": {},
   "source": []
  }
 ],
 "metadata": {
  "kernelspec": {
   "display_name": "Python 3",
   "language": "python",
   "name": "python3"
  },
  "toc": {
   "base_numbering": 1,
   "nav_menu": {},
   "number_sections": true,
   "sideBar": true,
   "skip_h1_title": false,
   "title_cell": "Table of Contents",
   "title_sidebar": "Contents",
   "toc_cell": false,
   "toc_position": {},
   "toc_section_display": true,
   "toc_window_display": false
  }
 },
 "nbformat": 4,
 "nbformat_minor": 2
}
