{
 "cells": [
  {
   "cell_type": "code",
   "execution_count": 6,
   "metadata": {},
   "outputs": [
    {
     "name": "stdout",
     "output_type": "stream",
     "text": [
      "enter no1 in format a+bj7-4j\n",
      "enter no2 in format a+bj8+2j\n",
      "result: (-1-6j)\n"
     ]
    }
   ],
   "source": [
    "#question 1(program to substract  2 complex number)\n",
    "\n",
    "a  = complex(input(\"enter no1 in format a+bj:\"))\n",
    "b  = complex(input(\"enter no2 in format a+bj:\"))\n",
    "c  = a-b\n",
    "print(\"result:\",c)\n"
   ]
  },
  {
   "cell_type": "code",
   "execution_count": 12,
   "metadata": {},
   "outputs": [
    {
     "name": "stdout",
     "output_type": "stream",
     "text": [
      "enter number 16\n",
      "2.0\n"
     ]
    }
   ],
   "source": [
    "#question 2(program to find fourth root)\n",
    "\n",
    "a = int(input(\"enter number \"))\n",
    "a=a**(1/4)\n",
    "print(a)"
   ]
  },
  {
   "cell_type": "code",
   "execution_count": 13,
   "metadata": {},
   "outputs": [
    {
     "name": "stdout",
     "output_type": "stream",
     "text": [
      "enter 1st no2\n",
      "enter 2nd no3\n",
      "before swap 2 3\n",
      "after swap 3 2\n"
     ]
    }
   ],
   "source": [
    "#question 3(swap with temp)\n",
    "\n",
    "a = input(\"enter 1st no\")\n",
    "b = input(\"enter 2nd no\")\n",
    "print(\"before swap\",a,b)\n",
    "t=a\n",
    "a=b\n",
    "b=t\n",
    "print(\"after swap\",a,b)"
   ]
  },
  {
   "cell_type": "code",
   "execution_count": 17,
   "metadata": {},
   "outputs": [
    {
     "name": "stdout",
     "output_type": "stream",
     "text": [
      "enter 1st no2\n",
      "enter 2nd no3\n",
      "before swap 2 3\n",
      "after swap 3.0 2.0\n"
     ]
    }
   ],
   "source": [
    "#question 4(swap without temp)\n",
    "\n",
    "a = int(input(\"enter 1st no\"))\n",
    "b = int(input(\"enter 2nd no\"))\n",
    "print(\"before swap\",a,b)\n",
    "a = a*b\n",
    "b = a/b\n",
    "a = a/b\n",
    "print(\"after swap\",a,b)\n",
    "\n",
    "\n"
   ]
  },
  {
   "cell_type": "code",
   "execution_count": 20,
   "metadata": {},
   "outputs": [
    {
     "name": "stdout",
     "output_type": "stream",
     "text": [
      "enter temperature in farenheit68\n",
      "temp in kelvin: 293.15000000000003 K\n",
      "temp in celcius: 20.0 C\n"
     ]
    }
   ],
   "source": [
    "#question 5(program to convert to fahrenheit and celsius)\n",
    "\n",
    "a = int(input(\"enter temperature in farenheit\"))\n",
    "\n",
    "b = (a+459.67)*(5/9)\n",
    "print(\"temp in kelvin:\",b,\"K\")\n",
    "b = (a-32)*(5/9)\n",
    "print(\"temp in celcius:\",b,\"C\")"
   ]
  },
  {
   "cell_type": "code",
   "execution_count": 30,
   "metadata": {},
   "outputs": [
    {
     "name": "stdout",
     "output_type": "stream",
     "text": [
      "test\n",
      "<class 'str'>\n",
      "2\n",
      "<class 'int'>\n",
      "2.3\n",
      "<class 'float'>\n",
      "(6+4j)\n",
      "<class 'complex'>\n",
      "[1, 2, 3, 4]\n",
      "<class 'list'>\n",
      "(1, 2, 3, 4)\n",
      "<class 'tuple'>\n",
      "{1: 'i', 2: 'am', 3: 'Ironman'}\n",
      "<class 'dict'>\n"
     ]
    }
   ],
   "source": [
    "#question 6(program to show all data types)\n",
    "\n",
    "a = \"test\"\n",
    "print(a)\n",
    "print(type(a))\n",
    "a=2\n",
    "print(a)\n",
    "print(type(a))\n",
    "a = 2.3\n",
    "print(a)\n",
    "print(type(a))\n",
    "a = 6+4j\n",
    "print(a)\n",
    "print(type(a))\n",
    "a = [1,2,3,4]\n",
    "print(a)\n",
    "print(type(a))\n",
    "a = (1,2,3,4)\n",
    "print(a)\n",
    "print(type(a))\n",
    "a = {1:\"i\",2:\"am\",3:\"Ironman\"}\n",
    "print(a)\n",
    "print(type(a))"
   ]
  },
  {
   "cell_type": "markdown",
   "metadata": {},
   "source": []
  },
  {
   "cell_type": "markdown",
   "metadata": {},
   "source": []
  },
  {
   "cell_type": "markdown",
   "metadata": {},
   "source": [
    "## question 7 \n",
    "___Steps to upload file___  \n",
    "1.Create a Github public repo and name it LetsUpgrade AI/ML \n",
    "2.Upload the files/solution in the repo in day wise manner. \n",
    "3.Copy the URL of the Folder of that day and paste in the Assignment Submission Form (Google Form) \n",
    "4.Make sure you are filling correct details in the Assignment Submission Form."
   ]
  }
 ],
 "metadata": {
  "kernelspec": {
   "display_name": "Python 3",
   "language": "python",
   "name": "python3"
  },
  "language_info": {
   "codemirror_mode": {
    "name": "ipython",
    "version": 3
   },
   "file_extension": ".py",
   "mimetype": "text/x-python",
   "name": "python",
   "nbconvert_exporter": "python",
   "pygments_lexer": "ipython3",
   "version": "3.7.3"
  }
 },
 "nbformat": 4,
 "nbformat_minor": 2
}
